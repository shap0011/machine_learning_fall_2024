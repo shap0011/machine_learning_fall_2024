{
  "cells": [
    {
      "cell_type": "markdown",
      "metadata": {
        "id": "view-in-github",
        "colab_type": "text"
      },
      "source": [
        "<a href=\"https://colab.research.google.com/github/shap0011/machine_learning_fall_2024/blob/main/variable_naming_comments_readability_error_handling.ipynb\" target=\"_parent\"><img src=\"https://colab.research.google.com/assets/colab-badge.svg\" alt=\"Open In Colab\"/></a>"
      ]
    },
    {
      "cell_type": "markdown",
      "id": "945c9b8f",
      "metadata": {
        "id": "945c9b8f"
      },
      "source": [
        "# Naming best practices and code readability"
      ]
    },
    {
      "cell_type": "markdown",
      "id": "4a9bd493",
      "metadata": {
        "id": "4a9bd493"
      },
      "source": [
        "### When writing code in Python, it’s important to make sure that your code can be easily understood by others. Below are the 3 ways to do this:\n",
        "\n",
        "1. Giving variables obvious names.\n",
        "\n",
        "2. Defining explicit functions.\n",
        "\n",
        "3. Organizing your code.\n",
        "\n",
        "#### Add descriptive comments.\n",
        "1. What am I doing at each step? Why am I doing it?\n",
        "\n",
        "2. What is my thought process here?\n",
        "\n",
        "\n",
        "#### Use spacing and line breaks to improve readability."
      ]
    },
    {
      "cell_type": "markdown",
      "source": [
        "#### **Variable names:** should be all lowercase with the words separated by underscores. A variable called `“VariableIsGlobal”` cannot be read as easely and as fast as `“variable_is_global”`"
      ],
      "metadata": {
        "id": "lv8UXYWcnqT8"
      },
      "id": "lv8UXYWcnqT8"
    },
    {
      "cell_type": "code",
      "source": [
        "import numpy as np\n",
        "from google.colab import drive\n",
        "drive.mount('/content/drive')"
      ],
      "metadata": {
        "colab": {
          "base_uri": "https://localhost:8080/"
        },
        "id": "VhE2RQu5YwyP",
        "outputId": "b4588a48-a6d8-42fb-a6a0-b25c2b4f6693"
      },
      "id": "VhE2RQu5YwyP",
      "execution_count": 1,
      "outputs": [
        {
          "output_type": "stream",
          "name": "stdout",
          "text": [
            "Drive already mounted at /content/drive; to attempt to forcibly remount, call drive.mount(\"/content/drive\", force_remount=True).\n"
          ]
        }
      ]
    },
    {
      "cell_type": "code",
      "source": [
        "!ls '/content/drive/My Drive/Colab Notebooks'"
      ],
      "metadata": {
        "colab": {
          "base_uri": "https://localhost:8080/"
        },
        "id": "jCeGUE9YYlw5",
        "outputId": "64d5a1f8-762c-4f84-a5ca-93b6768da0ac"
      },
      "id": "jCeGUE9YYlw5",
      "execution_count": 2,
      "outputs": [
        {
          "output_type": "stream",
          "name": "stdout",
          "text": [
            "'Copy of Goodlife_Fitness_Solution.ipynb'\n",
            " Data_Cleaning_Solution.ipynb\n",
            " EDA_Solution.ipynb\n",
            " Feature_Engineering_Solution.ipynb\n",
            " Goodlife_Fitness_Solution.ipynb\n",
            " my_functions.py\n",
            " __pycache__\n",
            " python_best_practices.ipynb\n",
            " Real_Estate_Solution.ipynb\n",
            " test_module.ipynb\n",
            " Unsupervised_Clustering_Solution.ipynb\n",
            " Untitled\n",
            " Untitled0.ipynb\n",
            " Untitled1.ipynb\n",
            " variable_naming_comments_readability_error_handling.ipynb\n"
          ]
        }
      ]
    },
    {
      "cell_type": "code",
      "source": [
        "import sys\n",
        "sys.path.append('/content/drive/My Drive/Colab Notebooks')  # Add the folder to the system path"
      ],
      "metadata": {
        "id": "9aYWUk0iY-_w"
      },
      "id": "9aYWUk0iY-_w",
      "execution_count": 3,
      "outputs": []
    },
    {
      "cell_type": "code",
      "source": [
        "from my_functions import subtract_numbers  # Import the function\n",
        "from my_functions import multiply_numbers  # Import the function\n",
        "from my_functions import divide_numbers  # Import the function\n",
        "from my_functions import add_numbers  # Import the function"
      ],
      "metadata": {
        "id": "11SpUPzNYYIK"
      },
      "id": "11SpUPzNYYIK",
      "execution_count": 4,
      "outputs": []
    },
    {
      "cell_type": "code",
      "source": [
        "add_numbers(3,5)"
      ],
      "metadata": {
        "colab": {
          "base_uri": "https://localhost:8080/"
        },
        "id": "fWTFnX0xZRqf",
        "outputId": "64f35346-98a0-4d80-a385-bca8a666b94f"
      },
      "id": "fWTFnX0xZRqf",
      "execution_count": 19,
      "outputs": [
        {
          "output_type": "execute_result",
          "data": {
            "text/plain": [
              "8"
            ]
          },
          "metadata": {},
          "execution_count": 19
        }
      ]
    },
    {
      "cell_type": "markdown",
      "id": "56e6eb88",
      "metadata": {
        "id": "56e6eb88"
      },
      "source": [
        "### Bad way to name variables"
      ]
    },
    {
      "cell_type": "code",
      "execution_count": 20,
      "id": "d773e7ed",
      "metadata": {
        "id": "d773e7ed",
        "colab": {
          "base_uri": "https://localhost:8080/"
        },
        "outputId": "08cfa6a6-2975-455a-98bb-acb756055066"
      },
      "outputs": [
        {
          "output_type": "stream",
          "name": "stdout",
          "text": [
            "bananas\n",
            "butter\n",
            "cheese\n",
            "toothpaste\n"
          ]
        }
      ],
      "source": [
        "lst = [\"bananas\",\"butter\",\"cheese\",\"toothpaste\"]\n",
        "\n",
        "for i in lst:\n",
        "    print(i)"
      ]
    },
    {
      "cell_type": "code",
      "execution_count": 21,
      "id": "53249dd2",
      "metadata": {
        "id": "53249dd2"
      },
      "outputs": [],
      "source": [
        "lst1 = ['butter','milk','eggs','cheese']\n",
        "lst2 = ['tomatoes','carrot','spinach','cabbage']\n",
        "lst3 = ['ham','chicken','tuna','turkey']"
      ]
    },
    {
      "cell_type": "markdown",
      "id": "0c3e5d42",
      "metadata": {
        "id": "0c3e5d42"
      },
      "source": [
        "### A better way"
      ]
    },
    {
      "cell_type": "code",
      "execution_count": 22,
      "id": "5b052f22",
      "metadata": {
        "id": "5b052f22",
        "colab": {
          "base_uri": "https://localhost:8080/"
        },
        "outputId": "a76ea403-c9e2-45af-f138-368ca465197d"
      },
      "outputs": [
        {
          "output_type": "stream",
          "name": "stdout",
          "text": [
            "bananas\n",
            "butter\n",
            "cheese\n",
            "toothpaste\n"
          ]
        }
      ],
      "source": [
        "groceries = [\"bananas\",\"butter\",\"cheese\",\"toothpaste\"]\n",
        "\n",
        "for i in groceries:\n",
        "    print(i)"
      ]
    },
    {
      "cell_type": "markdown",
      "id": "29bc922e",
      "metadata": {
        "id": "29bc922e"
      },
      "source": [
        "### Even better"
      ]
    },
    {
      "cell_type": "code",
      "execution_count": 23,
      "id": "fb44b849",
      "metadata": {
        "id": "fb44b849",
        "colab": {
          "base_uri": "https://localhost:8080/"
        },
        "outputId": "0c70968f-94ba-48ee-97ac-512bdeb9327b"
      },
      "outputs": [
        {
          "output_type": "stream",
          "name": "stdout",
          "text": [
            "bananas\n",
            "butter\n",
            "cheese\n",
            "toothpaste\n"
          ]
        }
      ],
      "source": [
        "groceries = [\"bananas\",\"butter\",\"cheese\",\"toothpaste\"]\n",
        "\n",
        "for grocery in groceries:\n",
        "    print(grocery)"
      ]
    },
    {
      "cell_type": "code",
      "execution_count": 25,
      "id": "e237f14f",
      "metadata": {
        "id": "e237f14f"
      },
      "outputs": [],
      "source": [
        "dairy_list = ['butter','milk','eggs','cheese']\n",
        "veg_list = ['tomatoes','carrot','spinach','cabbage']\n",
        "meat_list = ['ham','chicken','tuna','turkey']"
      ]
    },
    {
      "cell_type": "markdown",
      "source": [
        "### Constants or Final\n",
        "\n",
        "* Constants or finals must always be written in UPPERCASE, with the words separated by underscores to make them readable, like PI, MAX_VALUE.\n",
        "* This use is widespread and should be used to avoid any confusion with normal variables."
      ],
      "metadata": {
        "id": "JPv2lG9CoYtu"
      },
      "id": "JPv2lG9CoYtu"
    },
    {
      "cell_type": "markdown",
      "id": "b73d24d5",
      "metadata": {
        "id": "b73d24d5"
      },
      "source": [
        "### camelCase vs under_scores"
      ]
    },
    {
      "cell_type": "markdown",
      "id": "4abb82fb",
      "metadata": {
        "id": "4abb82fb"
      },
      "source": [
        "More details here - https://dewitters.com/dewitters-tao-of-coding/"
      ]
    },
    {
      "cell_type": "markdown",
      "id": "583668c1",
      "metadata": {
        "id": "583668c1"
      },
      "source": [
        "### Good naming and commenting"
      ]
    },
    {
      "cell_type": "markdown",
      "id": "52904607",
      "metadata": {
        "id": "52904607"
      },
      "source": [
        "#### As mentioned above, here are 3 good commenting practices for students to use:\n",
        "\n",
        "1. Giving variables obvious names\n",
        "2. Defining explicit functions\n",
        "3. Organizing your code"
      ]
    },
    {
      "cell_type": "markdown",
      "id": "ad0103cc",
      "metadata": {
        "id": "ad0103cc"
      },
      "source": [
        "### Different ways to comment in Python"
      ]
    },
    {
      "cell_type": "code",
      "execution_count": 10,
      "id": "266c3985",
      "metadata": {
        "id": "266c3985"
      },
      "outputs": [],
      "source": [
        "# This is a comment\n",
        "# You can use the keys crtl + / (in Windows) to comment single and multiple lines"
      ]
    },
    {
      "cell_type": "code",
      "execution_count": 26,
      "id": "43f0ef2e",
      "metadata": {
        "id": "43f0ef2e",
        "colab": {
          "base_uri": "https://localhost:8080/"
        },
        "outputId": "852db0f5-9d34-4d44-d806-f4ac8da5e9f3"
      },
      "outputs": [
        {
          "output_type": "stream",
          "name": "stdout",
          "text": [
            "This will run.\n"
          ]
        }
      ],
      "source": [
        "print(\"This will run.\")  # Run this"
      ]
    },
    {
      "cell_type": "code",
      "execution_count": 27,
      "id": "516f2d66",
      "metadata": {
        "id": "516f2d66"
      },
      "outputs": [],
      "source": [
        "def multiline_example():\n",
        "    # This is a pretty good example\n",
        "    # of how you can spread comments\n",
        "    # over multiple lines in Python\n",
        "    pass"
      ]
    },
    {
      "cell_type": "markdown",
      "id": "a40007d1",
      "metadata": {
        "id": "a40007d1"
      },
      "source": [
        "While the below cell gives you the multiline functionality, this isn’t technically a comment. It’s a string that’s not assigned to any variable, so it’s not called or referenced by your program. Still, since it will be ignored at runtime, it can effectively act as a comment."
      ]
    },
    {
      "cell_type": "code",
      "execution_count": 31,
      "id": "1afe3153",
      "metadata": {
        "id": "1afe3153",
        "colab": {
          "base_uri": "https://localhost:8080/",
          "height": 35
        },
        "outputId": "bc954d54-df38-4e87-b986-a5e18fe89b17"
      },
      "outputs": [
        {
          "output_type": "execute_result",
          "data": {
            "text/plain": [
              "'\\nIf I really hate pressing `enter` and\\ntyping all those hash marks, I could\\njust do this instead\\n\\n'"
            ],
            "application/vnd.google.colaboratory.intrinsic+json": {
              "type": "string"
            }
          },
          "metadata": {},
          "execution_count": 31
        }
      ],
      "source": [
        "# Doc-strings\n",
        "\"\"\"\n",
        "If I really hate pressing `enter` and\n",
        "typing all those hash marks, I could\n",
        "just do this instead\n",
        "\n",
        "\"\"\""
      ]
    },
    {
      "cell_type": "markdown",
      "id": "817cfe13",
      "metadata": {
        "id": "817cfe13"
      },
      "source": [
        "### Writing comments"
      ]
    },
    {
      "cell_type": "code",
      "execution_count": 29,
      "id": "0438c7b6",
      "metadata": {
        "id": "0438c7b6"
      },
      "outputs": [],
      "source": [
        "def get_sum(x: float, y: float) -> float:\n",
        "    \"\"\"\n",
        "    Calculate the sum of two numbers.\n",
        "\n",
        "    Args:\n",
        "    x (float): The first number\n",
        "    y (float): The second number\n",
        "\n",
        "    Returns:\n",
        "    float: The sum of x and y\n",
        "    \"\"\"\n",
        "    return x + y"
      ]
    },
    {
      "cell_type": "code",
      "source": [
        "get_sum(1,2)"
      ],
      "metadata": {
        "id": "G5qLLV5pgbEA",
        "colab": {
          "base_uri": "https://localhost:8080/"
        },
        "outputId": "aa1bae0a-84df-4866-b5d3-1a089abafe52"
      },
      "id": "G5qLLV5pgbEA",
      "execution_count": 32,
      "outputs": [
        {
          "output_type": "execute_result",
          "data": {
            "text/plain": [
              "3"
            ]
          },
          "metadata": {},
          "execution_count": 32
        }
      ]
    },
    {
      "cell_type": "markdown",
      "id": "fb14a825",
      "metadata": {
        "id": "fb14a825"
      },
      "source": [
        "### How to practice commenting"
      ]
    },
    {
      "cell_type": "markdown",
      "id": "48fcd9e9",
      "metadata": {
        "id": "48fcd9e9"
      },
      "source": [
        "1. Start writing comments for yourself in your own code. Make it a point to include simple comments wherever they would be helpful for your (current and future) understanding.\n",
        "2. Add some clarity to complex functions, and put a docstring at the top of all your scripts.\n",
        "3. Go back and review old code that you’ve written. See where anything might not make sense, and clean up the code."
      ]
    },
    {
      "cell_type": "markdown",
      "id": "e5a250c1",
      "metadata": {
        "id": "e5a250c1"
      },
      "source": [
        "### Examples"
      ]
    },
    {
      "cell_type": "markdown",
      "id": "03bcdeb5",
      "metadata": {
        "id": "03bcdeb5"
      },
      "source": [
        "#### Bad"
      ]
    },
    {
      "cell_type": "code",
      "execution_count": 16,
      "id": "b1cafe57",
      "metadata": {
        "id": "b1cafe57",
        "colab": {
          "base_uri": "https://localhost:8080/"
        },
        "outputId": "de2cad07-76db-400c-a08f-5980c23c984f"
      },
      "outputs": [
        {
          "output_type": "stream",
          "name": "stdout",
          "text": [
            "one\n",
            "two\n",
            "one\n"
          ]
        }
      ],
      "source": [
        "print('one'); print('two')\n",
        "x=1\n",
        "if x == 1: print('one')\n",
        "\n",
        "# The issue is readability. The code is not indented.\n",
        "# if <complex comparison> and <other complex comparison>:\n",
        "    # do something"
      ]
    },
    {
      "cell_type": "markdown",
      "id": "089503d3",
      "metadata": {
        "id": "089503d3"
      },
      "source": [
        "#### Good"
      ]
    },
    {
      "cell_type": "code",
      "execution_count": 17,
      "id": "c210ad68",
      "metadata": {
        "id": "c210ad68",
        "colab": {
          "base_uri": "https://localhost:8080/"
        },
        "outputId": "697289fe-43ed-49ec-a18c-b742efb7a7fc"
      },
      "outputs": [
        {
          "output_type": "stream",
          "name": "stdout",
          "text": [
            "one\n",
            "two\n",
            "one\n"
          ]
        }
      ],
      "source": [
        "print('one')\n",
        "print('two')\n",
        "\n",
        "if x == 1:\n",
        "    print('one')\n",
        "\n",
        "# # uncomment for run through\n",
        "# cond1 = <complex comparison>\n",
        "# cond2 = <other complex comparison>\n",
        "# if cond1 and cond2:\n",
        "#     # do something"
      ]
    },
    {
      "cell_type": "markdown",
      "id": "b86b843b",
      "metadata": {
        "id": "b86b843b"
      },
      "source": [
        "\n",
        "**I highly recommend watching this video** - A masterclass to teach you all Python best practices - https://www.youtube.com/watch?v=ubGeHQRjNog"
      ]
    },
    {
      "cell_type": "markdown",
      "id": "57877afb",
      "metadata": {
        "id": "57877afb"
      },
      "source": [
        "# Errors :\n",
        "## These are going to make your life miserable this semester\n",
        "### But Python helps you a lot to identify where the problem is.... and you can easily learn how to fix them!"
      ]
    },
    {
      "cell_type": "markdown",
      "id": "ec91f024",
      "metadata": {
        "id": "ec91f024"
      },
      "source": [
        "### Understanding Traceback\n",
        "Python generates traceback when an exception occurs during the execution of the python program. There are two conditions the python program gets into problems while the program is executed.\n",
        "\n",
        "1. **Syntax Error** - If the program is not properly coded, the program gets into error at the time of compilation itself. You need to write the correct code; then, only the program will progress to the next lines.\n",
        "\n",
        "\n",
        "2. **Logical Error (Exception)** - This error happens only during the execution, and it surfaces only when an exceptional condition occurs within the program. The exceptional condition occurs due to the supply of wrong data, and the program is not designed to manage the extraneous condition."
      ]
    },
    {
      "cell_type": "markdown",
      "id": "a2a47c62",
      "metadata": {
        "id": "a2a47c62"
      },
      "source": [
        "![pic1.png](https://github.com/gt-cse-6040/bootcamp/blob/main/Module%200/Session%202/pic1.png?raw=1)"
      ]
    },
    {
      "cell_type": "markdown",
      "id": "ecac35a2",
      "metadata": {
        "id": "ecac35a2"
      },
      "source": [
        "### How to read the coding error messages\n",
        "1. The arrow always points to the line of code that failed.\n",
        "\n",
        "### Let’s look at a coding error message in the function below."
      ]
    },
    {
      "cell_type": "code",
      "source": [
        "# This code has a syntax error\n",
        "# print(\"Hello, world!\" # Missing closing parenthesis\n",
        "print(\"Hello, world!\")  # Missing closing parenthesis"
      ],
      "metadata": {
        "id": "pw-zZfgbi9Gi",
        "colab": {
          "base_uri": "https://localhost:8080/"
        },
        "outputId": "64dcdab0-4169-4e82-ff7c-de5a615da47e"
      },
      "id": "pw-zZfgbi9Gi",
      "execution_count": 38,
      "outputs": [
        {
          "output_type": "stream",
          "name": "stdout",
          "text": [
            "Hello, world!\n"
          ]
        }
      ]
    },
    {
      "cell_type": "code",
      "source": [
        "# Correct version would be:\n",
        "print(\"Hello, world!\")"
      ],
      "metadata": {
        "id": "S_LHy01-jANh",
        "colab": {
          "base_uri": "https://localhost:8080/"
        },
        "outputId": "eddf15df-15a2-4876-d0a4-67713b6fcf37"
      },
      "id": "S_LHy01-jANh",
      "execution_count": 35,
      "outputs": [
        {
          "output_type": "stream",
          "name": "stdout",
          "text": [
            "Hello, world!\n"
          ]
        }
      ]
    },
    {
      "cell_type": "code",
      "source": [
        "# this code will throw and exception\n",
        "def divide(a, b):\n",
        "    return a / b\n",
        "\n",
        "# This will throw a ZeroDivisionError\n",
        "# result = divide(10, 0)\n",
        "result = divide(10, 1)\n",
        "print(result)"
      ],
      "metadata": {
        "id": "3RR1iGl8jXXu",
        "colab": {
          "base_uri": "https://localhost:8080/"
        },
        "outputId": "ffd79399-8e06-43ac-f4f1-cf99cc51529b"
      },
      "id": "3RR1iGl8jXXu",
      "execution_count": 37,
      "outputs": [
        {
          "output_type": "stream",
          "name": "stdout",
          "text": [
            "10.0\n"
          ]
        }
      ]
    },
    {
      "cell_type": "code",
      "execution_count": 41,
      "id": "26a75b0a",
      "metadata": {
        "id": "26a75b0a",
        "colab": {
          "base_uri": "https://localhost:8080/"
        },
        "outputId": "f92221cd-cc69-412e-fa69-f99359aeac59"
      },
      "outputs": [
        {
          "output_type": "stream",
          "name": "stdout",
          "text": [
            "numerator 10\n",
            "denominator 5\n",
            "Quotient  2.0\n"
          ]
        }
      ],
      "source": [
        "# will throw error for improper indentation\n",
        "def Division():\n",
        "# A = Num / Den\n",
        "  A = Num / Den\n",
        "# print (\"Quotient \", A)\n",
        "  print (\"Quotient \", A)\n",
        "\n",
        "Num = int (input (\"numerator \"))\n",
        "Den = int (input (\"denominator \"))\n",
        "\n",
        "Division()\n"
      ]
    },
    {
      "cell_type": "code",
      "execution_count": 42,
      "id": "a96cac9d",
      "metadata": {
        "id": "a96cac9d",
        "colab": {
          "base_uri": "https://localhost:8080/"
        },
        "outputId": "15a856da-a9ff-4ec7-d136-2ad1c58f207a"
      },
      "outputs": [
        {
          "output_type": "stream",
          "name": "stdout",
          "text": [
            "numerator 40\n",
            "denominator 8\n",
            "Quotient  5.0\n"
          ]
        }
      ],
      "source": [
        "# This is correct.\n",
        "def Division():\n",
        "    Num = int (input (\"numerator \"))\n",
        "    Den = int (input (\"denominator \"))\n",
        "    A = Num / Den\n",
        "    print (\"Quotient \", A)\n",
        "\n",
        "Division()\n",
        "# input 0 denominator to see error message structure"
      ]
    },
    {
      "cell_type": "markdown",
      "source": [
        "#### What you see is the ERROR TRACEBACK.\n",
        "1. The BOTTOM ARROW will always point to the line of code that directly caused the failure. It may be a line of code in your notebook, or a line of code from the underlying Python system.\n",
        "\n",
        "2. The TOP ARROW will point to the initial line of code that was executed, and you can start here, working down, to see the sequence of code that was executed (not every line will be shown).\n",
        "\n",
        "3. If your function is calling other functions within your notebook, each of those lines will be included in the error trace.\n",
        "\n",
        "4. What you want to do is work your way down to the first line of code (arrowed to) that is from the notebook, and that you wrote. This will tell you where your underlying problem is.\n",
        "\n",
        "#### The bottom of the error block will give the ERROR TEXT. If you do not understand what this text means, GOOGLE SEARCH THE TEXT!!\n",
        "\n",
        "#### Here is the link to an excellent article to understand how to read error messages and the traceback:  https://realpython.com/python-traceback/"
      ],
      "metadata": {
        "id": "KuIwL7K2iC3u"
      },
      "id": "KuIwL7K2iC3u"
    },
    {
      "cell_type": "markdown",
      "source": [
        "### Functions\n",
        "* A function is a block of reusable code that performs a specific task.\n",
        "\n",
        "* Functions do things, and their name should make this clear. Therefore, always include a verb in it, no exceptions! Use the same naming as with variables, this means all lowercase words separated by underscores."
      ],
      "metadata": {
        "id": "pjNrGvKwpLhE"
      },
      "id": "pjNrGvKwpLhE"
    },
    {
      "cell_type": "code",
      "source": [
        "# Function\n",
        "def greet(name):\n",
        "    return f\"Hello, {name}!\""
      ],
      "metadata": {
        "id": "ZCCSItEup9Ji"
      },
      "id": "ZCCSItEup9Ji",
      "execution_count": 43,
      "outputs": []
    },
    {
      "cell_type": "code",
      "source": [
        "# Usage\n",
        "print(greet(\"Alice\"))  # Output: Hello, Alice!"
      ],
      "metadata": {
        "id": "LBSyiNQqp_ag",
        "colab": {
          "base_uri": "https://localhost:8080/"
        },
        "outputId": "63878dd1-ab48-4e9e-c0a5-afaef98bd9d1"
      },
      "id": "LBSyiNQqp_ag",
      "execution_count": 44,
      "outputs": [
        {
          "output_type": "stream",
          "name": "stdout",
          "text": [
            "Hello, Alice!\n"
          ]
        }
      ]
    },
    {
      "cell_type": "markdown",
      "source": [
        "### Classes\n",
        "\n",
        "For naming of classes, use the same `UpperCamelCase` type.\n"
      ],
      "metadata": {
        "id": "4uSR1GcdpeOj"
      },
      "id": "4uSR1GcdpeOj"
    },
    {
      "cell_type": "code",
      "source": [
        "import numpy as np\n",
        "\n",
        "class DataStats:\n",
        "    def __init__(self, data):\n",
        "        self.data = np.array(data)\n",
        "\n",
        "    def mean(self) -> float:\n",
        "        return np.mean(self.data)\n",
        "\n",
        "    def median(self) -> float:\n",
        "        return np.median(self.data)\n",
        "\n",
        "    def std_dev(self) -> float:\n",
        "        return np.std(self.data)\n",
        "\n",
        "    def range(self) -> float:\n",
        "        return np.max(self.data) - np.min(self.data)\n",
        "\n",
        "    def add_data_point(self, value: float):\n",
        "        self.data = np.append(self.data, value)\n",
        "\n",
        "    def remove_outliers(self, threshold: float = 3):\n",
        "        z_scores = np.abs((self.data - self.mean()) / self.std_dev())\n",
        "        self.data = self.data[z_scores < threshold]\n",
        "\n",
        "    def summary(self) -> dict:\n",
        "        return {\n",
        "            \"mean\": self.mean(),\n",
        "            \"median\": self.median(),\n",
        "            \"std_dev\": self.std_dev(),\n",
        "            \"range\": self.range(),\n",
        "            \"count\": len(self.data)\n",
        "        }\n"
      ],
      "metadata": {
        "id": "JiAhM15rpOo5"
      },
      "id": "JiAhM15rpOo5",
      "execution_count": 46,
      "outputs": []
    },
    {
      "cell_type": "code",
      "source": [
        "# Example usage\n",
        "data = [1, 2, 3, 4, 5, 100]  # Note: 100 is an outlier\n",
        "stats = DataStats(data)\n",
        "\n",
        "print(\"Initial summary:\", stats.summary())"
      ],
      "metadata": {
        "id": "mseBTR-6qjfx",
        "colab": {
          "base_uri": "https://localhost:8080/"
        },
        "outputId": "3b0e1f22-07b6-435a-a4e8-87abbacde1ba"
      },
      "id": "mseBTR-6qjfx",
      "execution_count": 47,
      "outputs": [
        {
          "output_type": "stream",
          "name": "stdout",
          "text": [
            "Initial summary: {'mean': 19.166666666666668, 'median': 3.5, 'std_dev': 36.17281053805775, 'range': 99, 'count': 6}\n"
          ]
        }
      ]
    },
    {
      "cell_type": "markdown",
      "source": [
        "!ls"
      ],
      "metadata": {
        "id": "TUb1J4lDrw-W"
      },
      "id": "TUb1J4lDrw-W"
    }
  ],
  "metadata": {
    "kernelspec": {
      "display_name": "Python 3 (ipykernel)",
      "language": "python",
      "name": "python3"
    },
    "language_info": {
      "codemirror_mode": {
        "name": "ipython",
        "version": 3
      },
      "file_extension": ".py",
      "mimetype": "text/x-python",
      "name": "python",
      "nbconvert_exporter": "python",
      "pygments_lexer": "ipython3",
      "version": "3.9.13"
    },
    "colab": {
      "provenance": [],
      "include_colab_link": true
    }
  },
  "nbformat": 4,
  "nbformat_minor": 5
}