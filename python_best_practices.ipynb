{
  "nbformat": 4,
  "nbformat_minor": 0,
  "metadata": {
    "colab": {
      "provenance": [],
      "authorship_tag": "ABX9TyPsAMdeSq4rAlbF6/xIgvtO",
      "include_colab_link": true
    },
    "kernelspec": {
      "name": "python3",
      "display_name": "Python 3"
    },
    "language_info": {
      "name": "python"
    }
  },
  "cells": [
    {
      "cell_type": "markdown",
      "metadata": {
        "id": "view-in-github",
        "colab_type": "text"
      },
      "source": [
        "<a href=\"https://colab.research.google.com/github/shap0011/machine_learning_fall_2024/blob/main/python_best_practices.ipynb\" target=\"_parent\"><img src=\"https://colab.research.google.com/assets/colab-badge.svg\" alt=\"Open In Colab\"/></a>"
      ]
    },
    {
      "cell_type": "code",
      "execution_count": null,
      "metadata": {
        "id": "bzTS9ddd1ARc"
      },
      "outputs": [],
      "source": []
    },
    {
      "cell_type": "markdown",
      "source": [
        "# Naming best practices and code readability"
      ],
      "metadata": {
        "id": "vEgnViWd2ZMi"
      }
    },
    {
      "cell_type": "markdown",
      "source": [
        "**1. Ensure Both Files Are in the Same Folder**\n",
        "<br>\n",
        "Verify that both `python_best_practices.ipynb` and `test.ipynb` are in the same folder in your Google Drive (e.g., Colab Notebooks).\n",
        "<br><br>\n",
        "**2. Mount Google Drive in Your Colab Notebook**\n",
        "Mount your Google Drive to access the files. This will mount your Google Drive to `/content/drive/My Drive`.\n",
        "<br><br>\n",
        "**3. Convert test.ipynb to a Python Script**\n",
        "Colab notebooks (.ipynb files) cannot be directly imported as modules. You need to convert `test.ipynb` into a Python script (`test.py`) using the nbconvert library:\n",
        "<br>\n",
        "`!jupyter nbconvert --to script '/content/drive/My Drive/Colab Notebooks/test.ipynb'`\n",
        "<br>\n",
        "This will create a file named `test.txt` in the same directory as `test.ipynb`. Rename `test.txt` to `test.py`\n",
        "<br><br>\n",
        "**4. Import the Function**\n",
        "Now, you can import the add_numbers function from `test.py` into `python_best_practices.ipynb`:"
      ],
      "metadata": {
        "id": "ODogSZ_uamaw"
      }
    },
    {
      "cell_type": "code",
      "source": [],
      "metadata": {
        "id": "gD-_IRKvcGo1"
      },
      "execution_count": null,
      "outputs": []
    },
    {
      "cell_type": "code",
      "source": [
        "import numpy as np\n",
        "from google.colab import drive\n",
        "drive.mount('/content/drive')"
      ],
      "metadata": {
        "id": "glJjuHgq2g8i",
        "colab": {
          "base_uri": "https://localhost:8080/"
        },
        "outputId": "abd079da-341c-478d-9bf4-7968e1047485"
      },
      "execution_count": 1,
      "outputs": [
        {
          "output_type": "stream",
          "name": "stdout",
          "text": [
            "Drive already mounted at /content/drive; to attempt to forcibly remount, call drive.mount(\"/content/drive\", force_remount=True).\n"
          ]
        }
      ]
    },
    {
      "cell_type": "code",
      "source": [
        "!ls '/content/drive/My Drive/Colab Notebooks'"
      ],
      "metadata": {
        "colab": {
          "base_uri": "https://localhost:8080/"
        },
        "id": "YDyzmZJvhq1a",
        "outputId": "457ec3f5-7df9-4eaa-cf05-cbc457bea470"
      },
      "execution_count": 2,
      "outputs": [
        {
          "output_type": "stream",
          "name": "stdout",
          "text": [
            "'Copy of Goodlife_Fitness_Solution.ipynb'   python_best_practices.ipynb\n",
            " Data_Cleaning_Solution.ipynb\t\t    Real_Estate_Solution.ipynb\n",
            " EDA_Solution.ipynb\t\t\t    test_module.ipynb\n",
            " Feature_Engineering_Solution.ipynb\t    Unsupervised_Clustering_Solution.ipynb\n",
            " Goodlife_Fitness_Solution.ipynb\t    Untitled\n",
            " my_functions.py\t\t\t    Untitled0.ipynb\n",
            " __pycache__\t\t\t\t    Untitled1.ipynb\n"
          ]
        }
      ]
    },
    {
      "cell_type": "code",
      "source": [
        "import sys\n",
        "sys.path.append('/content/drive/My Drive/Colab Notebooks')  # Add the folder to the system path\n",
        "\n",
        "from my_functions import add_numbers  # Import the function\n"
      ],
      "metadata": {
        "id": "WQ-eXPQai1mF"
      },
      "execution_count": 3,
      "outputs": []
    },
    {
      "cell_type": "code",
      "source": [
        "a = [1,2,3,4,5]"
      ],
      "metadata": {
        "id": "PCB3j4CG2rla"
      },
      "execution_count": 4,
      "outputs": []
    },
    {
      "cell_type": "markdown",
      "source": [
        "Type 'np.' and press Tab to see a list of options (e.g., mean). Then, type '(' and press Shift+Tab to view the full documentation for the selected function."
      ],
      "metadata": {
        "id": "OMLjeK1z52HK"
      }
    },
    {
      "cell_type": "code",
      "source": [
        "np.mean(a)"
      ],
      "metadata": {
        "colab": {
          "base_uri": "https://localhost:8080/"
        },
        "id": "sOi2OYsM2vdS",
        "outputId": "b38bf8d2-bf6f-4524-a4a1-438d09916110"
      },
      "execution_count": 5,
      "outputs": [
        {
          "output_type": "execute_result",
          "data": {
            "text/plain": [
              "3.0"
            ]
          },
          "metadata": {},
          "execution_count": 5
        }
      ]
    },
    {
      "cell_type": "code",
      "source": [
        "np.mean([6,7,8,9,10])"
      ],
      "metadata": {
        "colab": {
          "base_uri": "https://localhost:8080/"
        },
        "id": "2QJzx16Q20hQ",
        "outputId": "6132f58a-d359-460c-ff1c-c993e70e451e"
      },
      "execution_count": 6,
      "outputs": [
        {
          "output_type": "execute_result",
          "data": {
            "text/plain": [
              "8.0"
            ]
          },
          "metadata": {},
          "execution_count": 6
        }
      ]
    },
    {
      "cell_type": "code",
      "source": [
        "add_numbers(1,2)"
      ],
      "metadata": {
        "id": "bPTsn1uC3AaB",
        "colab": {
          "base_uri": "https://localhost:8080/"
        },
        "outputId": "4e5f1ab8-ea57-441b-efc4-d0f0f7de1ece"
      },
      "execution_count": 7,
      "outputs": [
        {
          "output_type": "execute_result",
          "data": {
            "text/plain": [
              "3"
            ]
          },
          "metadata": {},
          "execution_count": 7
        }
      ]
    },
    {
      "cell_type": "markdown",
      "source": [
        "## Update test_module.py file, and rename it to my_functions.py"
      ],
      "metadata": {
        "id": "qE25ELu5pvht"
      }
    },
    {
      "cell_type": "code",
      "source": [
        "!jupyter nbconvert --to script '/content/drive/My Drive/Colab Notebooks/test_module.ipynb' --output 'test_module.py'\n"
      ],
      "metadata": {
        "id": "Lxf6_bPJHXEj",
        "colab": {
          "base_uri": "https://localhost:8080/"
        },
        "outputId": "c181b22e-2227-4c9f-8694-93bbb1724820"
      },
      "execution_count": 8,
      "outputs": [
        {
          "output_type": "stream",
          "name": "stdout",
          "text": [
            "[NbConvertApp] Converting notebook /content/drive/My Drive/Colab Notebooks/test_module.ipynb to script\n",
            "[NbConvertApp] Writing 174 bytes to /content/drive/My Drive/Colab Notebooks/test_module.py.txt\n"
          ]
        }
      ]
    },
    {
      "cell_type": "code",
      "source": [
        "!mv '/content/drive/My Drive/Colab Notebooks/test_module.py.txt' '/content/drive/My Drive/Colab Notebooks/my_functions.py'"
      ],
      "metadata": {
        "id": "Fa6U4nQVp3br"
      },
      "execution_count": 9,
      "outputs": []
    },
    {
      "cell_type": "code",
      "source": [
        "!ls '/content/drive/My Drive/Colab Notebooks'"
      ],
      "metadata": {
        "colab": {
          "base_uri": "https://localhost:8080/"
        },
        "id": "gwHQCYGMqHTe",
        "outputId": "cb17fd27-a22a-4780-c645-cca6a559262d"
      },
      "execution_count": 10,
      "outputs": [
        {
          "output_type": "stream",
          "name": "stdout",
          "text": [
            "'Copy of Goodlife_Fitness_Solution.ipynb'   python_best_practices.ipynb\n",
            " Data_Cleaning_Solution.ipynb\t\t    Real_Estate_Solution.ipynb\n",
            " EDA_Solution.ipynb\t\t\t    test_module.ipynb\n",
            " Feature_Engineering_Solution.ipynb\t    Unsupervised_Clustering_Solution.ipynb\n",
            " Goodlife_Fitness_Solution.ipynb\t    Untitled\n",
            " my_functions.py\t\t\t    Untitled0.ipynb\n",
            " __pycache__\t\t\t\t    Untitled1.ipynb\n"
          ]
        }
      ]
    },
    {
      "cell_type": "code",
      "source": [
        "import os\n",
        "\n",
        "print(os.listdir('/content/drive/My Drive/Colab Notebooks'))\n"
      ],
      "metadata": {
        "colab": {
          "base_uri": "https://localhost:8080/"
        },
        "id": "rqBSBVwVQIk5",
        "outputId": "94ea0dbc-0a59-4e24-8b91-0d1d7c4f80c8"
      },
      "execution_count": 11,
      "outputs": [
        {
          "output_type": "stream",
          "name": "stdout",
          "text": [
            "['Copy of Goodlife_Fitness_Solution.ipynb', 'Goodlife_Fitness_Solution.ipynb', 'EDA_Solution.ipynb', 'Data_Cleaning_Solution.ipynb', 'Untitled0.ipynb', 'Feature_Engineering_Solution.ipynb', 'Untitled', 'Real_Estate_Solution.ipynb', 'Untitled1.ipynb', 'Unsupervised_Clustering_Solution.ipynb', '__pycache__', 'test_module.ipynb', 'my_functions.py', 'python_best_practices.ipynb']\n"
          ]
        }
      ]
    },
    {
      "cell_type": "code",
      "source": [
        "import importlib\n",
        "import my_functions\n",
        "\n",
        "importlib.reload(my_functions)\n"
      ],
      "metadata": {
        "colab": {
          "base_uri": "https://localhost:8080/"
        },
        "id": "pKsBfIRFQbR4",
        "outputId": "63cba6dc-b939-4fbf-cac6-71fe999c2be5"
      },
      "execution_count": 13,
      "outputs": [
        {
          "output_type": "execute_result",
          "data": {
            "text/plain": [
              "<module 'my_functions' from '/content/drive/My Drive/Colab Notebooks/my_functions.py'>"
            ]
          },
          "metadata": {},
          "execution_count": 13
        }
      ]
    },
    {
      "cell_type": "code",
      "source": [
        "import sys\n",
        "sys.path.append('/content/drive/My Drive/Colab Notebooks')  # Add the folder to the system path\n",
        "\n",
        "from my_functions import subtract_numbers  # Import the function\n",
        "from my_functions import multiply_numbers  # Import the function\n",
        "from my_functions import divide_numbers  # Import the function\n",
        "from my_functions import add_numbers  # Import the function"
      ],
      "metadata": {
        "id": "2qr_2jiBqS9t"
      },
      "execution_count": 24,
      "outputs": []
    },
    {
      "cell_type": "code",
      "source": [
        "add_numbers(25,62)"
      ],
      "metadata": {
        "colab": {
          "base_uri": "https://localhost:8080/"
        },
        "id": "FxZs5nFys4EI",
        "outputId": "ebcef843-c27e-463a-c28d-ffc93a19ce5e"
      },
      "execution_count": 31,
      "outputs": [
        {
          "output_type": "execute_result",
          "data": {
            "text/plain": [
              "87"
            ]
          },
          "metadata": {},
          "execution_count": 31
        }
      ]
    },
    {
      "cell_type": "code",
      "source": [
        "subtract_numbers(35,73)"
      ],
      "metadata": {
        "colab": {
          "base_uri": "https://localhost:8080/"
        },
        "id": "5-PaDeNmtI_D",
        "outputId": "9b0d770b-8b50-4e94-b441-c29fb491e7b5"
      },
      "execution_count": 26,
      "outputs": [
        {
          "output_type": "execute_result",
          "data": {
            "text/plain": [
              "-38"
            ]
          },
          "metadata": {},
          "execution_count": 26
        }
      ]
    },
    {
      "cell_type": "code",
      "source": [
        "multiply_numbers(12,34)"
      ],
      "metadata": {
        "colab": {
          "base_uri": "https://localhost:8080/"
        },
        "id": "z_W_vmFMtOaD",
        "outputId": "83bd9c8d-dd78-42ba-bb77-12c43ea0d649"
      },
      "execution_count": 30,
      "outputs": [
        {
          "output_type": "execute_result",
          "data": {
            "text/plain": [
              "408"
            ]
          },
          "metadata": {},
          "execution_count": 30
        }
      ]
    },
    {
      "cell_type": "code",
      "source": [
        "divide_numbers(75,5)"
      ],
      "metadata": {
        "colab": {
          "base_uri": "https://localhost:8080/"
        },
        "id": "WHZa9-dPtTA8",
        "outputId": "23748ea0-1157-46bc-d480-18cb57a49050"
      },
      "execution_count": 29,
      "outputs": [
        {
          "output_type": "execute_result",
          "data": {
            "text/plain": [
              "15.0"
            ]
          },
          "metadata": {},
          "execution_count": 29
        }
      ]
    },
    {
      "cell_type": "code",
      "source": [
        "divide_numbers(9,5)"
      ],
      "metadata": {
        "id": "HUH7kgc8tZgs",
        "colab": {
          "base_uri": "https://localhost:8080/"
        },
        "outputId": "b4131cc3-3484-4b08-a331-70db8d001384"
      },
      "execution_count": 28,
      "outputs": [
        {
          "output_type": "execute_result",
          "data": {
            "text/plain": [
              "1.8"
            ]
          },
          "metadata": {},
          "execution_count": 28
        }
      ]
    }
  ]
}