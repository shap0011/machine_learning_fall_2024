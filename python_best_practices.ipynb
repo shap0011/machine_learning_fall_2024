{
  "nbformat": 4,
  "nbformat_minor": 0,
  "metadata": {
    "colab": {
      "provenance": [],
      "authorship_tag": "ABX9TyPrbIv7PaKYgstKAmPkrHPH",
      "include_colab_link": true
    },
    "kernelspec": {
      "name": "python3",
      "display_name": "Python 3"
    },
    "language_info": {
      "name": "python"
    }
  },
  "cells": [
    {
      "cell_type": "markdown",
      "metadata": {
        "id": "view-in-github",
        "colab_type": "text"
      },
      "source": [
        "<a href=\"https://colab.research.google.com/github/shap0011/machine_learning_fall_2024/blob/main/python_best_practices.ipynb\" target=\"_parent\"><img src=\"https://colab.research.google.com/assets/colab-badge.svg\" alt=\"Open In Colab\"/></a>"
      ]
    },
    {
      "cell_type": "code",
      "execution_count": null,
      "metadata": {
        "id": "bzTS9ddd1ARc"
      },
      "outputs": [],
      "source": []
    },
    {
      "cell_type": "markdown",
      "source": [
        "# Naming best practices and code readability"
      ],
      "metadata": {
        "id": "vEgnViWd2ZMi"
      }
    },
    {
      "cell_type": "markdown",
      "source": [
        "**1. Ensure Both Files Are in the Same Folder**\n",
        "<br>\n",
        "Verify that both `python_best_practices.ipynb` and `test.ipynb` are in the same folder in your Google Drive (e.g., Colab Notebooks).\n",
        "<br><br>\n",
        "**2. Mount Google Drive in Your Colab Notebook**\n",
        "Mount your Google Drive to access the files. This will mount your Google Drive to `/content/drive/My Drive`.\n",
        "<br><br>\n",
        "**3. Convert test.ipynb to a Python Script**\n",
        "Colab notebooks (.ipynb files) cannot be directly imported as modules. You need to convert `test.ipynb` into a Python script (`test.py`) using the nbconvert library:\n",
        "<br>\n",
        "`!jupyter nbconvert --to script '/content/drive/My Drive/Colab Notebooks/test.ipynb'`\n",
        "<br>\n",
        "This will create a file named `test.txt` in the same directory as `test.ipynb`. Rename `test.txt` to `test.py`\n",
        "<br><br>\n",
        "**4. Import the Function**\n",
        "Now, you can import the add_numbers function from `test.py` into `python_best_practices.ipynb`:"
      ],
      "metadata": {
        "id": "ODogSZ_uamaw"
      }
    },
    {
      "cell_type": "code",
      "source": [],
      "metadata": {
        "id": "gD-_IRKvcGo1"
      },
      "execution_count": null,
      "outputs": []
    },
    {
      "cell_type": "code",
      "source": [
        "import numpy as np\n",
        "from google.colab import drive\n",
        "drive.mount('/content/drive')"
      ],
      "metadata": {
        "id": "glJjuHgq2g8i"
      },
      "execution_count": null,
      "outputs": []
    },
    {
      "cell_type": "code",
      "source": [
        "!ls '/content/drive/My Drive/Colab Notebooks'\n"
      ],
      "metadata": {
        "colab": {
          "base_uri": "https://localhost:8080/"
        },
        "id": "SwI3D4zYflMR",
        "outputId": "cde895eb-990d-4775-d6f5-8ad648095d1c"
      },
      "execution_count": 21,
      "outputs": [
        {
          "output_type": "stream",
          "name": "stdout",
          "text": [
            "'Copy of Goodlife_Fitness_Solution.ipynb'   test.ipynb\n",
            " Data_Cleaning_Solution.ipynb\t\t    test_module.py.gdoc\n",
            " EDA_Solution.ipynb\t\t\t    test.txt\n",
            " Feature_Engineering_Solution.ipynb\t    Unsupervised_Clustering_Solution.ipynb\n",
            " Goodlife_Fitness_Solution.ipynb\t    Untitled\n",
            " python_best_practices.ipynb\t\t    Untitled0.ipynb\n",
            " Real_Estate_Solution.ipynb\t\t    Untitled1.ipynb\n"
          ]
        }
      ]
    },
    {
      "cell_type": "code",
      "source": [
        "!jupyter nbconvert --to script '/content/drive/My Drive/Colab Notebooks/test.ipynb'\n"
      ],
      "metadata": {
        "colab": {
          "base_uri": "https://localhost:8080/"
        },
        "id": "_Sjr9GBeg_qj",
        "outputId": "43d77fd6-04f1-44c9-f4f5-a99216378d64"
      },
      "execution_count": 23,
      "outputs": [
        {
          "output_type": "stream",
          "name": "stdout",
          "text": [
            "[NbConvertApp] Converting notebook /content/drive/My Drive/Colab Notebooks/test.ipynb to script\n",
            "[NbConvertApp] Writing 54 bytes to /content/drive/My Drive/Colab Notebooks/test.txt\n"
          ]
        }
      ]
    },
    {
      "cell_type": "code",
      "source": [
        "!mv '/content/drive/My Drive/Colab Notebooks/test.txt' '/content/drive/My Drive/Colab Notebooks/test.py'\n"
      ],
      "metadata": {
        "id": "ZFp4ZpU2hhos"
      },
      "execution_count": 24,
      "outputs": []
    },
    {
      "cell_type": "code",
      "source": [
        "!ls '/content/drive/My Drive/Colab Notebooks'"
      ],
      "metadata": {
        "colab": {
          "base_uri": "https://localhost:8080/"
        },
        "id": "YDyzmZJvhq1a",
        "outputId": "864ba2de-cb09-4a3d-b4ed-5e9b3a768fa2"
      },
      "execution_count": 25,
      "outputs": [
        {
          "output_type": "stream",
          "name": "stdout",
          "text": [
            "'Copy of Goodlife_Fitness_Solution.ipynb'   test.ipynb\n",
            " Data_Cleaning_Solution.ipynb\t\t    test.py\n",
            " EDA_Solution.ipynb\t\t\t    Unsupervised_Clustering_Solution.ipynb\n",
            " Feature_Engineering_Solution.ipynb\t    Untitled\n",
            " Goodlife_Fitness_Solution.ipynb\t    Untitled0.ipynb\n",
            " python_best_practices.ipynb\t\t    Untitled1.ipynb\n",
            " Real_Estate_Solution.ipynb\n"
          ]
        }
      ]
    },
    {
      "cell_type": "code",
      "source": [
        "!mv '/content/drive/My Drive/Colab Notebooks/test.py' '/content/drive/My Drive/Colab Notebooks/test_module.py'\n"
      ],
      "metadata": {
        "id": "3ndxcKLTis0v"
      },
      "execution_count": 27,
      "outputs": []
    },
    {
      "cell_type": "code",
      "source": [
        "import sys\n",
        "sys.path.append('/content/drive/My Drive/Colab Notebooks')  # Add the folder to the system path\n",
        "\n",
        "from test_module import add_numbers  # Import the function\n"
      ],
      "metadata": {
        "id": "WQ-eXPQai1mF"
      },
      "execution_count": 28,
      "outputs": []
    },
    {
      "cell_type": "code",
      "source": [
        "a = [1,2,3,4,5]"
      ],
      "metadata": {
        "id": "PCB3j4CG2rla"
      },
      "execution_count": null,
      "outputs": []
    },
    {
      "cell_type": "markdown",
      "source": [
        "Type 'np.' and press Tab to see a list of options (e.g., mean). Then, type '(' and press Shift+Tab to view the full documentation for the selected function."
      ],
      "metadata": {
        "id": "OMLjeK1z52HK"
      }
    },
    {
      "cell_type": "code",
      "source": [
        "np.mean(a)"
      ],
      "metadata": {
        "colab": {
          "base_uri": "https://localhost:8080/"
        },
        "id": "sOi2OYsM2vdS",
        "outputId": "e85263bb-de8d-44de-cdba-1ebfc73203c3"
      },
      "execution_count": null,
      "outputs": [
        {
          "output_type": "execute_result",
          "data": {
            "text/plain": [
              "3.0"
            ]
          },
          "metadata": {},
          "execution_count": 3
        }
      ]
    },
    {
      "cell_type": "code",
      "source": [
        "np.mean([6,7,8,9,10])"
      ],
      "metadata": {
        "colab": {
          "base_uri": "https://localhost:8080/"
        },
        "id": "2QJzx16Q20hQ",
        "outputId": "5e9c8043-aad4-4f93-d332-ce07f3eba507"
      },
      "execution_count": null,
      "outputs": [
        {
          "output_type": "execute_result",
          "data": {
            "text/plain": [
              "8.0"
            ]
          },
          "metadata": {},
          "execution_count": 4
        }
      ]
    },
    {
      "cell_type": "code",
      "source": [
        "add_numbers(1,2)"
      ],
      "metadata": {
        "id": "bPTsn1uC3AaB",
        "colab": {
          "base_uri": "https://localhost:8080/"
        },
        "outputId": "07248df2-21f7-47b9-cfeb-2523d905ce0e"
      },
      "execution_count": 29,
      "outputs": [
        {
          "output_type": "execute_result",
          "data": {
            "text/plain": [
              "3"
            ]
          },
          "metadata": {},
          "execution_count": 29
        }
      ]
    },
    {
      "cell_type": "markdown",
      "source": [
        "## Update test_module.py file, and rename it to my_functions.py"
      ],
      "metadata": {
        "id": "qE25ELu5pvht"
      }
    },
    {
      "cell_type": "code",
      "source": [
        "!jupyter nbconvert --to script '/content/drive/My Drive/Colab Notebooks/test_module.ipynb' --output 'test_module.py'\n"
      ],
      "metadata": {
        "id": "Lxf6_bPJHXEj",
        "colab": {
          "base_uri": "https://localhost:8080/"
        },
        "outputId": "db8a07c3-8639-425c-e2f1-106eb1c265e3"
      },
      "execution_count": 36,
      "outputs": [
        {
          "output_type": "stream",
          "name": "stdout",
          "text": [
            "[NbConvertApp] Converting notebook /content/drive/My Drive/Colab Notebooks/test_module.ipynb to script\n",
            "[NbConvertApp] Writing 174 bytes to /content/drive/My Drive/Colab Notebooks/test_module.py.txt\n"
          ]
        }
      ]
    },
    {
      "cell_type": "code",
      "source": [
        "!mv '/content/drive/My Drive/Colab Notebooks/test_module.py' '/content/drive/My Drive/Colab Notebooks/my_functions.py'"
      ],
      "metadata": {
        "id": "Fa6U4nQVp3br"
      },
      "execution_count": 44,
      "outputs": []
    },
    {
      "cell_type": "code",
      "source": [
        "!ls '/content/drive/My Drive/Colab Notebooks'"
      ],
      "metadata": {
        "colab": {
          "base_uri": "https://localhost:8080/"
        },
        "id": "gwHQCYGMqHTe",
        "outputId": "7e030246-80d9-4cc6-c834-eed67ed1aefb"
      },
      "execution_count": 45,
      "outputs": [
        {
          "output_type": "stream",
          "name": "stdout",
          "text": [
            "'Copy of Goodlife_Fitness_Solution.ipynb'   python_best_practices.ipynb\n",
            " Data_Cleaning_Solution.ipynb\t\t    Real_Estate_Solution.ipynb\n",
            " EDA_Solution.ipynb\t\t\t    test_module.ipynb\n",
            " Feature_Engineering_Solution.ipynb\t    Unsupervised_Clustering_Solution.ipynb\n",
            " Goodlife_Fitness_Solution.ipynb\t    Untitled\n",
            " my_functions.py\t\t\t    Untitled0.ipynb\n",
            " __pycache__\t\t\t\t    Untitled1.ipynb\n"
          ]
        }
      ]
    },
    {
      "cell_type": "code",
      "source": [
        "import sys\n",
        "sys.path.append('/content/drive/My Drive/Colab Notebooks')  # Add the folder to the system path\n",
        "\n",
        "from my_functions import subtract_numbers  # Import the function\n",
        "from my_functions import multiply_numbers  # Import the function\n",
        "from my_functions import divide_numbers  # Import the function"
      ],
      "metadata": {
        "id": "2qr_2jiBqS9t"
      },
      "execution_count": 47,
      "outputs": []
    },
    {
      "cell_type": "code",
      "source": [
        "from my_functions import add_numbers  # Import the function"
      ],
      "metadata": {
        "id": "lWcaFpnBs7_i"
      },
      "execution_count": 48,
      "outputs": []
    },
    {
      "cell_type": "code",
      "source": [
        "add_numbers(25,62)"
      ],
      "metadata": {
        "colab": {
          "base_uri": "https://localhost:8080/"
        },
        "id": "FxZs5nFys4EI",
        "outputId": "a6966ff1-cf44-4e2e-f897-ccbe3700a34f"
      },
      "execution_count": 49,
      "outputs": [
        {
          "output_type": "execute_result",
          "data": {
            "text/plain": [
              "87"
            ]
          },
          "metadata": {},
          "execution_count": 49
        }
      ]
    },
    {
      "cell_type": "code",
      "source": [
        "subtract_numbers(35,73)"
      ],
      "metadata": {
        "colab": {
          "base_uri": "https://localhost:8080/"
        },
        "id": "5-PaDeNmtI_D",
        "outputId": "b422bb5f-9540-4dad-d68e-1249b9f0c8dc"
      },
      "execution_count": 50,
      "outputs": [
        {
          "output_type": "execute_result",
          "data": {
            "text/plain": [
              "-38"
            ]
          },
          "metadata": {},
          "execution_count": 50
        }
      ]
    },
    {
      "cell_type": "code",
      "source": [
        "multiply_numbers(12,34)"
      ],
      "metadata": {
        "colab": {
          "base_uri": "https://localhost:8080/"
        },
        "id": "z_W_vmFMtOaD",
        "outputId": "4bf90b7d-3b7d-46c1-c5cd-a438585da685"
      },
      "execution_count": 51,
      "outputs": [
        {
          "output_type": "execute_result",
          "data": {
            "text/plain": [
              "408"
            ]
          },
          "metadata": {},
          "execution_count": 51
        }
      ]
    },
    {
      "cell_type": "code",
      "source": [
        "divide_numbers(75,5)"
      ],
      "metadata": {
        "colab": {
          "base_uri": "https://localhost:8080/"
        },
        "id": "WHZa9-dPtTA8",
        "outputId": "0d3a6499-b15d-4687-9001-2e18b2050f96"
      },
      "execution_count": 52,
      "outputs": [
        {
          "output_type": "execute_result",
          "data": {
            "text/plain": [
              "15.0"
            ]
          },
          "metadata": {},
          "execution_count": 52
        }
      ]
    },
    {
      "cell_type": "code",
      "source": [],
      "metadata": {
        "id": "HUH7kgc8tZgs"
      },
      "execution_count": null,
      "outputs": []
    }
  ]
}